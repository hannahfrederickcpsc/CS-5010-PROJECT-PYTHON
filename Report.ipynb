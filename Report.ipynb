{
 "cells": [
  {
   "cell_type": "markdown",
   "metadata": {},
   "source": [
    "__Team NULL CS 5010 Final Project__ \\\\\n",
    "__Andr\\'e Zazzera (alz9cb), Annie Williams (maw3as), Hannah Frederick (hbf3k), Sean Grace (smg2mx)__"
   ]
  },
  {
   "cell_type": "markdown",
   "metadata": {},
   "source": [
    "## Introduction:\n",
    "In our present historical moment, analysis and understanding of election results and patterns is of crucial importance. It's a widely-spread talking point that voter turnout is trending downwards not only across the nation, but across the liberal world, as feelings of voter efficacy wane. Further complexifying this scenario are recent attempts by state and federal government offices to manipulate voter disenfranchisement to their own political ends, begging the question of analysis of registration data as well.  \n",
    "Additionally, in 1996, Virginia implemented the [National Voter Registration (\"Motor Voter\") Act](https://www.justice.gov/crt/about-national-voter-registration-act), which allowed voter registration forms to be submitted through Department of Motor Vehicles offices and other designated agencies, or to be submitted by mail. This fundamentally simplified the issue of voter registration in Virginia, and we were interested to see if there was significant difference between pre- and post-1996 registration numbers. \n",
    "Because we all go to school at Virginia's flagship public institution of higher education, we felt it appropriate and of worth to investigate the possibility of some of these trends in our own Commonwealth.  \n",
    "As a result, we agreed early on that we wanted to examine data from the Virginia Department of Elections, though in what form we would be examining the data was unclear. We hoped to be able to bring to light some interesting results and conclusions by our querying, that perhaps had gone unnoticed or unthought of in previous examinations of the data, as well as to hone our own webscraping, data cleaning and manipulation, analysis, and deductive skills."
   ]
  },
  {
   "cell_type": "markdown",
   "metadata": {},
   "source": [
    "## Description of the Data:\n",
    "Our data are composed of three separate datasets that we scraped from three separate websites, all from resources publicly available on the [Virginia Department of Elections website](https://www.elections.virginia.gov/resultsreports/) and the [Department of Elections Historical Database](https://historical.elections.virginia.gov/). Our first dataset was of the Virginia Department of Elections Registration/Turnout Statistics for the November general elections, from 1976 to 2019. The Department of Elections only publishes these turnout statistics after the election is certified. We determined that this dataset has all of the acceptable properties we seek in data: it comes from a good source, it has a great scale, it is fairly clean, and it has many types of data. The variables included in this dataset are: the year of the election, the number of registered voters in that election, the percent change in registered voters from the previous election, the number of total voters that voted in that election, the number of absentee voters in that election (included in the number of total voters), and the turnout or percent of registered voters that voted in that election. With these variables, we hoped to discover how voter turnout is trending generally because we planned to measure how the number of registered voters, the number of total voters, the number of absentee voters, and the percent voter turnout changed over time. \n",
    "\n",
    "Our next two datasets were of the Virginia Department of Elections Historical Elections Database for the presidential elections, from 1924 to 2016, and for the gubernatorial elections, from 1925 to 2017. The Department of Elections also publishes these electoral statistics after the election is certified. We determined that this dataset also has all of the acceptable properties we seek in data: it comes from a good source, it has a great scale, it is fairly clean, and it has many types of data. The variables included in this dataset are: the year of the election, the office that the candidate was running for, the district that the election was in, the type of election the candidate was running in, information about the candidate (including the name, the party, the number of all votes cast for them, and the percent of all votes cast for them). With these variables, we hoped to discover how voter turnout is trending depending on if a democratic candidate won the state or if a republican candidate won the state. We also hoped to discovered how voter turnout is trending depending on if it takes place in a presidential election or if it takes place in a gubernatorial election. We planned to merge these two election datasets with the turnout dataset to measure how the number of registered voters, the number of total voters, the number of absentee voters, and the percent voter turnout changed over time by the candidate that won the state and by the election that took place. All of these web-scraped datasets required substantial cleaning, merging, and processing before the data could be used for analysis.\n",
    "#### Describe this process here (Sean/Hannah/Annie)."
   ]
  },
  {
   "cell_type": "markdown",
   "metadata": {},
   "source": [
    "## Experimental Design:\n",
    "After all of the cleaning and manipulation of the data above, we broke into individual tasks, each performing queries of our own interest, before coming back together to compare our results and discuss our conclusions.\n",
    "#### Hannah\n",
    "First, we calculated the summary statistics for our complete dataset with all elections, as this let us see the general distributions of all the variables. **insert summ_stats code here**\n",
    "\n",
    "Then, we calculated the summary statistics for our dataset grouped by whether a democratic candidate won the election or a republican candidate won the election, and this let us see more interesting relationships among the variables. **insert grouped_stats code here**\n",
    "\n",
    "For example, we can see that the number of registered voters was generally higher when a democratic candidate won the election than when a republican candidate won the election. This was also the case for the number of total voters who voted and for the number of absentee voters who voted, but the voter turnout was generally higher when a republican candidate won the election than when a democratic candidate won the election.\n",
    "\n",
    "Next, we calculated the summary statistics for our dataset grouped by whether a presidential election took place or a gubernatorial election took place, and this also let us see more interesting relationships among the variables. **insert grouped_stats code here**\n",
    "\n",
    "For example, we can see that the number of total voters who voted was generally higher when a presidential election took place than when a gubernatorial election took place. This was also the case for the voter turnout and for the number of absentee voters who voted, but the number of registered voters was about the same when a presidential election took place as when a gubernatorial election took place.\n",
    "\n",
    "Then, we calculated the summary statistics for our dataset grouped by whether the election took place before or after the Virginia Motor Voter Act was passed, and this let us see more interesting relationships among the variables. **insert pre_motor_voter_stats and post_motor_voter_stats code here**\n",
    "\n",
    "For example, we can see that the number of registered voters was significantly higher after the Motor Voter Act than before the Motor Voter Act. This was also the case for the number of total voters who voted and for the number of absentee voters who voted, but the voter turnout was significantly higher before the Motor Voter Act than after the Motor Voter Act.\n",
    "\n",
    "We also calculated the percent change in the number of total voters from one year to the next year for only presidential elections and for only gubernatorial elections. For only presidential elections, we discovered that the smallest percent change occurred in 1988, the greatest percent decrease occurred in 1996, and the greatest percent change occurred in 2004. For only gubernatorial elections, we discovered that the smallest percent change occurred in 2009, the greatest percent decrease occurred in 1985, and the greatest percent change occurred in 1989. **insert interesting insights and that code here**\n",
    "\n",
    "We also calculated the mean voter turnout in presidential elections and the mean voter turnout in all other elections and conducted hypothesis testing to see if the difference in these two means are statistically significant. Our two-tailed t-test found that this these two means are significantly different, so we can conclude that voter turnout is not the same in presidential elections as it is for all other elections. **insert that code here**\n",
    "\n",
    "**insert the next t-test here and that code here**"
   ]
  },
  {
   "cell_type": "markdown",
   "metadata": {},
   "source": [
    "## Beyond Original Specifications:\n",
    "In order to exceed the baseline expectations for this project, our group chose to web scrape three different data sets and perform extra manipulation and cleaning to make it workable. \n",
    "#### go into more detail aobut this process again, but with an emphasis on why it merits extra credit\n",
    "Furthermore, we designed a method which would allow a user to input any year in which there was a presidential election (from 1976-2019) and check to see if Virginia voted for the eventual winner of the national general election. This was done by querying the data set against a dictionary of national election winners.\n",
    "#### insert code for this method\n",
    "Lastly, we also performed some statistical hypothesis testing, to be able to confidently affirm or reject our suspicions about the impact of presidential elections on turnout, as well as of the Motor Voter Act on registration. This required and allowed us to explore statistical computing packages in Python, an essential skill in our repertoire.\n",
    "#### insert t-test codes here"
   ]
  },
  {
   "cell_type": "markdown",
   "metadata": {},
   "source": [
    "## Results: \n",
    "#### Sean"
   ]
  },
  {
   "cell_type": "markdown",
   "metadata": {},
   "source": [
    "## Testing: \n",
    "### Hannah Testing\n",
    "We ran nine unit tests specifically on our web-scraping process in voter_registration.py, presidential_results.py, and governor_results.py. The voter_registration.py web-scraper converted the data from the strings to floats as they were read in, so we needed to test that our methods converted these types correctly. The \"only_numerics\" method takes in a string representation of a number, strips any non-numeric characters from that string, and returns the float representation of that number. All of these numbers had commas ',' so we needed to remove these commas if we wanted to parse this string as a float. To make sure that this method correctly converts all string representations to float representations, we ran unit tests on all possible string representations in this dataset. For example, test_does_only_numerics_work_with_numeric_strings tests if only_numerics('1,000,000') is equal to 1000000.0, meaning it tests if the method strips the non-numeric characters from the string and returns the string of only numeric characters converted to a float of that number.\n",
    "\n",
    "The \"percentages\" method takes in a string representation of a percentage, strips any non-numeric characters (other than the negative sign since percentages can be negative), and returns the float representation of that percentage. All of these percentages had periods '.' and percent signs '%' and some of the percentages had empty spaces ' ' and asterisks '\\*' so we needed to remove these characters if we wanted to parse this string as a float. To make sure that this method correctly converts all string representations to float representations, we ran unit tests on all possible string representations in this dataset. For example, test_does_percentages_work_with_negative_nonnumeric_strings tests if percentages('-10.0\\*\\*%') is equal to -0.1, meaning it tests if the method strips specific non-numeric characters from the string and returns the string of only numeric characters (other than a negative sign) converted to a float of that percentage."
   ]
  },
  {
   "cell_type": "markdown",
   "metadata": {},
   "source": [
    "### Annie Testing"
   ]
  },
  {
   "cell_type": "code",
   "execution_count": 2,
   "metadata": {},
   "outputs": [
    {
     "name": "stderr",
     "output_type": "stream",
     "text": [
      "test_does_only_numerics_work_with_nonnumeric_strings (TestWebScraper.TestWebScraper) ... ok\n",
      "test_does_only_numerics_work_with_numeric_strings (TestWebScraper.TestWebScraper) ... ok\n",
      "test_does_percentages_work_with_negative_nonnumeric_strings (TestWebScraper.TestWebScraper) ... ok\n",
      "test_does_percentages_work_with_negative_numeric_strings (TestWebScraper.TestWebScraper) ... ok\n",
      "test_does_percentages_work_with_positive_nonnumeric_strings (TestWebScraper.TestWebScraper) ... ok\n",
      "test_does_percentages_work_with_positive_numeric_strings (TestWebScraper.TestWebScraper) ... ok\n",
      "test_gubernatorial_election_scraper_request (TestWebScraper.TestWebScraper) ... ok\n",
      "test_presidential_election_scraper_request (TestWebScraper.TestWebScraper) ... "
     ]
    },
    {
     "name": "stdout",
     "output_type": "stream",
     "text": [
      "Is 1,000,000*** converted to and returned as 1000000.0?\n",
      "Is 1,000,000 converted to and returned as 1000000.0?\n",
      "Is -10.0%** converted to and returned as -0.1?\n",
      "Is -10.0% converted to and returned as -0.1?\n",
      "Is 10.0%** converted to and returned as 0.1?\n",
      "Is 10.0% converted to and returned as 0.1?\n",
      "Gubernatorial election site status code: 200\n"
     ]
    },
    {
     "name": "stderr",
     "output_type": "stream",
     "text": [
      "ok\n",
      "test_voter_registration_scraper_request (TestWebScraper.TestWebScraper) ... "
     ]
    },
    {
     "name": "stdout",
     "output_type": "stream",
     "text": [
      "Presidential election site status code: 200\n",
      "Voter registration site status code: 200\n"
     ]
    },
    {
     "name": "stderr",
     "output_type": "stream",
     "text": [
      "ok\n",
      "\n",
      "----------------------------------------------------------------------\n",
      "Ran 9 tests in 0.477s\n",
      "\n",
      "OK\n"
     ]
    },
    {
     "data": {
      "text/plain": [
       "<unittest.main.TestProgram at 0x201a80c30b8>"
      ]
     },
     "execution_count": 2,
     "metadata": {},
     "output_type": "execute_result"
    }
   ],
   "source": [
    "#import and run our unit tests from TestWebScraper.py\n",
    "from TestWebScraper import *\n",
    "unittest.main(argv=[''], verbosity=2, exit=False)"
   ]
  },
  {
   "cell_type": "markdown",
   "metadata": {},
   "source": [
    "## Conclusions:\n",
    "####Andre will do this"
   ]
  }
 ],
 "metadata": {
  "kernelspec": {
   "display_name": "Python 3",
   "language": "python",
   "name": "python3"
  },
  "language_info": {
   "codemirror_mode": {
    "name": "ipython",
    "version": 3
   },
   "file_extension": ".py",
   "mimetype": "text/x-python",
   "name": "python",
   "nbconvert_exporter": "python",
   "pygments_lexer": "ipython3",
   "version": "3.7.6"
  }
 },
 "nbformat": 4,
 "nbformat_minor": 4
}
