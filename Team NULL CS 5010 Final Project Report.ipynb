{
 "cells": [
  {
   "cell_type": "markdown",
   "metadata": {},
   "source": [
    "__Andr$\\acute{\\text{e}}$ Zazzera (alz9cb), Annie Williams (maw3as), Hannah Frederick (hbf3k), Sean Grace (smg2mx)__"
   ]
  },
  {
   "cell_type": "markdown",
   "metadata": {},
   "source": [
    "# Introduction:\n",
    "In our present historical moment, analysis and understanding of election results and patterns is of crucial importance. It's a widely-spread talking point that voter turnout is trending downwards not only across the nation, but across the liberal world, as feelings of voter efficacy wane. Further complexifying this scenario are recent attempts by state and federal government offices to manipulate voter disenfranchisement to their own political ends, begging the question of analysis of registration data as well.  \n",
    "Additionally, in 1996, Virginia implemented the [National Voter Registration (\"Motor Voter\") Act](https://www.justice.gov/crt/about-national-voter-registration-act), which allowed voter registration forms to be submitted through Department of Motor Vehicles offices and other designated agencies, or to be submitted by mail. This fundamentally simplified the issue of voter registration in Virginia, and we were interested to see if there was significant difference between pre- and post-1996 registration numbers. \n",
    "Because we all go to school at Virginia's flagship public institution of higher education, we felt it appropriate and of worth to investigate the possibility of some of these trends in our own Commonwealth.  \n",
    "As a result, we agreed early on that we wanted to examine data from the Virginia Department of Elections, though in what form we would be examining the data was unclear. We hoped to be able to bring to light some interesting results and conclusions by our querying, that perhaps had gone unnoticed or unthought of in previous examinations of the data, as well as to hone our own webscraping, data cleaning and manipulation, analysis, and deductive skills."
   ]
  },
  {
   "cell_type": "markdown",
   "metadata": {},
   "source": [
    "# Description of the Data:\n",
    "Our data are composed of three separate datasets that we scraped from three separate websites, all from resources publicly available on the [Virginia Department of Elections website](https://www.elections.virginia.gov/resultsreports/) and the [Department of Elections Historical Database](https://historical.elections.virginia.gov/). Our first dataset was of the Virginia Department of Elections Registration/Turnout Statistics for the November general elections, from 1976 to 2019. The Department of Elections only publishes these turnout statistics after the election is certified. We determined that this dataset has all of the acceptable properties we seek in data: it comes from a good source, it has a large scale, it is fairly clean, and it has many types of data. The variables included in this dataset are: \n",
    "\\begin{itemize}\n",
    "\\item Year: the year of the election \n",
    "\\item Total Registered: the number of registered voters in that election\n",
    "\\item Percentage Change From Previous Year: the percent change in registered voters from the previous election\n",
    "\\item Total Voting: the number of total voters that voted in that election\n",
    "\\item Voting Absentee (Included in Total Voting): the number of absentee voters in that election (included in the number of total voters)\n",
    "\\item Turnout (\\% Voting of Total Registered): the turnout or percent of registered voters that voted in that election.\n",
    "\\end{itemize}\n",
    "With these variables, we hoped to discover how voter turnout is trending generally because we planned to measure how the number of registered voters, the number of total voters, the number of absentee voters, and the percent voter turnout changed over time. \n",
    "\n",
    "Our next two datasets were of the Virginia Department of Elections Historical Elections Database for the presidential elections, from 1924 to 2016, and for the gubernatorial elections, from 1925 to 2017. The Department of Elections also publishes these electoral statistics after the election is certified. We determined that this dataset also has all of the acceptable properties we seek in data: it comes from a good source, it has a large scale, it is fairly clean, and it has many types of data. The variables included in this dataset are: \n",
    "\\begin{itemize}\n",
    "\\item Year: the year of the election\n",
    "\\item Office: the office that the candidate was running for\n",
    "\\item Winner (VA): candidate's name\n",
    "\\item Party: candidate's party\n",
    "\\item Winner's Vote Count: the number of all votes cast for them\n",
    "\\item Winner's Percent of Total Votes: the percent of all votes cast for them \n",
    "\\end{itemize}\n",
    "With these variables, we hoped to discover how voter turnout is trending depending on if a Democratic candidate won the state or if a Republican candidate won the state. We also hoped to discovered how voter turnout is trending depending on if it takes place in a presidential election or if it takes place in a gubernatorial election. We planned to merge these two election datasets with the turnout dataset to measure how the number of registered voters, the number of total voters, the number of absentee voters, and the percent voter turnout changed over time by the candidate that won the state and by the election that took place. All of these web-scraped datasets required substantial cleaning, merging, and processing before the data could be used for analysis."
   ]
  },
  {
   "cell_type": "markdown",
   "metadata": {},
   "source": [
    "# Experimental Design:\n",
    "\n",
    "\n",
    "## Web Scraping Process \n",
    "\n",
    "In order to collect the most up to date and trustworthy data, we decided to scrape the Virginia Department of Elections website. We wanted to learn more about the impact that voter registration has on Virginia election results - but data about voter registration and election results are on two completely different parts of the Virginia Department of Elections website.\n",
    "\n",
    "Since the data we wanted was not readily downloadable from the site, we ultimately had to create three separate web scrapers. The first web scraper, voter_registration.py, collects data from the page with voter registration results, and outputs the data into voter_registration.csv. Next we scraped the results of Virginia presidential general elections from a different page with the file presidential_results.py - and again outputted the data into a csv file: presidential_results.csv. Copying the same logic from the presidential scraper, we scraped our final page, the results from Virginia gubernatorial elections. This scraper is located in governor_results.py and outputs to governor_results.csv. \n",
    "\n",
    "Originally, we did not plan to collect data about the gubernatorial elections. However, after reflection, we deemed it appropriate to find more data on results of the elections by the winning party, and felt we did not have enough information to analyze the impacts of voter turnout and election results. Since gubernatorial elections happen in years when no other elections happen, we felt that this was the best choice to learn more about each year’s winning party."
   ]
  },
  {
   "cell_type": "markdown",
   "metadata": {},
   "source": [
    "## Data Cleaning Process \n",
    "\n",
    "After scraping each page, we were left with three separate csv files. We used Pandas to combine our three csv files, and clean our final dataset. All data cleaning happens in the file data_cleaning.ipynb. \n",
    "\n",
    "We first read in each csv file, then cast the years to int types instead of float types, and then concatenated the presidential_results.csv and the governor_results.csv files, since both files contained the same column names. We then sorted the total election results by year, and removed the years prior to 1976 because we did not have voter registration data before that year."
   ]
  },
  {
   "cell_type": "code",
   "execution_count": 4,
   "metadata": {},
   "outputs": [
    {
     "data": {
      "text/html": [
       "<div>\n",
       "<style scoped>\n",
       "    .dataframe tbody tr th:only-of-type {\n",
       "        vertical-align: middle;\n",
       "    }\n",
       "\n",
       "    .dataframe tbody tr th {\n",
       "        vertical-align: top;\n",
       "    }\n",
       "\n",
       "    .dataframe thead th {\n",
       "        text-align: right;\n",
       "    }\n",
       "</style>\n",
       "<table border=\"1\" class=\"dataframe\">\n",
       "  <thead>\n",
       "    <tr style=\"text-align: right;\">\n",
       "      <th></th>\n",
       "      <th>Year</th>\n",
       "      <th>Office</th>\n",
       "      <th>Winner (VA)</th>\n",
       "      <th>Party</th>\n",
       "      <th>Winner's Vote Count</th>\n",
       "      <th>Winner's Percent of Total Votes</th>\n",
       "    </tr>\n",
       "  </thead>\n",
       "  <tbody>\n",
       "    <tr>\n",
       "      <th>0</th>\n",
       "      <td>2017</td>\n",
       "      <td>Governor</td>\n",
       "      <td>Ralph Shearer Northam</td>\n",
       "      <td>Democratic</td>\n",
       "      <td>1408818</td>\n",
       "      <td>0.539</td>\n",
       "    </tr>\n",
       "    <tr>\n",
       "      <th>0</th>\n",
       "      <td>2016</td>\n",
       "      <td>President</td>\n",
       "      <td>Hillary R. Clinton</td>\n",
       "      <td>Democratic</td>\n",
       "      <td>1981473</td>\n",
       "      <td>0.497</td>\n",
       "    </tr>\n",
       "    <tr>\n",
       "      <th>1</th>\n",
       "      <td>2013</td>\n",
       "      <td>Governor</td>\n",
       "      <td>Terence Richard McAuliffe</td>\n",
       "      <td>Democratic</td>\n",
       "      <td>1069789</td>\n",
       "      <td>0.477</td>\n",
       "    </tr>\n",
       "    <tr>\n",
       "      <th>1</th>\n",
       "      <td>2012</td>\n",
       "      <td>President</td>\n",
       "      <td>Barack Obama</td>\n",
       "      <td>Democratic</td>\n",
       "      <td>1971820</td>\n",
       "      <td>0.511</td>\n",
       "    </tr>\n",
       "    <tr>\n",
       "      <th>2</th>\n",
       "      <td>2009</td>\n",
       "      <td>Governor</td>\n",
       "      <td>Robert F. McDonnell</td>\n",
       "      <td>Republican</td>\n",
       "      <td>1163651</td>\n",
       "      <td>0.586</td>\n",
       "    </tr>\n",
       "  </tbody>\n",
       "</table>\n",
       "</div>"
      ],
      "text/plain": [
       "   Year     Office                Winner (VA)       Party  \\\n",
       "0  2017   Governor      Ralph Shearer Northam  Democratic   \n",
       "0  2016  President         Hillary R. Clinton  Democratic   \n",
       "1  2013   Governor  Terence Richard McAuliffe  Democratic   \n",
       "1  2012  President               Barack Obama  Democratic   \n",
       "2  2009   Governor        Robert F. McDonnell  Republican   \n",
       "\n",
       "   Winner's Vote Count  Winner's Percent of Total Votes  \n",
       "0              1408818                            0.539  \n",
       "0              1981473                            0.497  \n",
       "1              1069789                            0.477  \n",
       "1              1971820                            0.511  \n",
       "2              1163651                            0.586  "
      ]
     },
     "execution_count": 4,
     "metadata": {},
     "output_type": "execute_result"
    }
   ],
   "source": [
    "import pandas as pd\n",
    "pd.options.mode.chained_assignment = None  # default='warn'\n",
    "\n",
    "#read in all three csv files as dataframes\n",
    "voter_registration = pd.read_csv(\"scrapers/voter_registration.csv\")\n",
    "presidential_results = pd.read_csv(\"scrapers/presidential_results.csv\")\n",
    "governor_results = pd.read_csv(\"scrapers/governor_results.csv\")\n",
    "\n",
    "# cast year to integer in all three dataframes\n",
    "voter_registration[\"Year\"] = voter_registration[\"Year\"].astype(int)\n",
    "presidential_results[\"Year\"] = presidential_results[\"Year\"].astype(int)\n",
    "governor_results[\"Year\"] = governor_results[\"Year\"].astype(int)\n",
    "\n",
    "# concatanate the presidential results with the governor results\n",
    "combined_elections = pd.concat([presidential_results, governor_results], axis=0)\n",
    "combined_elections.head()\n",
    "\n",
    "# sort dataframe based on year\n",
    "combined_elections.sort_values(by=\"Year\", ascending=False, inplace=True)\n",
    "combined_elections.head()\n",
    "# drop the last rows\n",
    "combined_elections = combined_elections[combined_elections[\"Year\"] >= 1976]\n",
    "combined_elections.head()"
   ]
  },
  {
   "cell_type": "markdown",
   "metadata": {},
   "source": [
    "Next, we needed to combine the data frame which held the results of both elections with the data frame containing the voter registration information. We used the Pandas merge function to do an outer join on the year column of the voter registration dataset and the election results dataset. Selecting an outer join produced a new data frame containing a union of the columns that appear in each original dataset. This final data frame, containing both voter turnout and election results, was saved to the file complete_cleaned.csv.\n",
    "\n",
    "While typically the prevalence of 'NaN' elements in the resulting data frame would be cause for further cleaning operations, in this situation, we actually decided it was more important to keep all of these rows, because their data would allow us to paint a more complete and robust picture regarding overall trends in the state of Virginia."
   ]
  },
  {
   "cell_type": "code",
   "execution_count": 5,
   "metadata": {},
   "outputs": [
    {
     "data": {
      "text/html": [
       "<div>\n",
       "<style scoped>\n",
       "    .dataframe tbody tr th:only-of-type {\n",
       "        vertical-align: middle;\n",
       "    }\n",
       "\n",
       "    .dataframe tbody tr th {\n",
       "        vertical-align: top;\n",
       "    }\n",
       "\n",
       "    .dataframe thead th {\n",
       "        text-align: right;\n",
       "    }\n",
       "</style>\n",
       "<table border=\"1\" class=\"dataframe\">\n",
       "  <thead>\n",
       "    <tr style=\"text-align: right;\">\n",
       "      <th></th>\n",
       "      <th>Year</th>\n",
       "      <th>Total Registered</th>\n",
       "      <th>Percentage Change from Previous Year</th>\n",
       "      <th>Total Voting</th>\n",
       "      <th>Turnout (% Voting of Total Registered)</th>\n",
       "      <th>Voting Absentee (Included in Total Voting)</th>\n",
       "      <th>Office</th>\n",
       "      <th>Winner (VA)</th>\n",
       "      <th>Party</th>\n",
       "      <th>Winner's Vote Count</th>\n",
       "      <th>Winner's Percent of Total Votes</th>\n",
       "    </tr>\n",
       "  </thead>\n",
       "  <tbody>\n",
       "    <tr>\n",
       "      <th>0</th>\n",
       "      <td>2019</td>\n",
       "      <td>5628035.0</td>\n",
       "      <td>-0.0100</td>\n",
       "      <td>2383646.0</td>\n",
       "      <td>0.4240</td>\n",
       "      <td>144360.0</td>\n",
       "      <td>NaN</td>\n",
       "      <td>NaN</td>\n",
       "      <td>NaN</td>\n",
       "      <td>NaN</td>\n",
       "      <td>NaN</td>\n",
       "    </tr>\n",
       "    <tr>\n",
       "      <th>1</th>\n",
       "      <td>2018</td>\n",
       "      <td>5666962.0</td>\n",
       "      <td>0.0331</td>\n",
       "      <td>3374382.0</td>\n",
       "      <td>0.5950</td>\n",
       "      <td>337315.0</td>\n",
       "      <td>NaN</td>\n",
       "      <td>NaN</td>\n",
       "      <td>NaN</td>\n",
       "      <td>NaN</td>\n",
       "      <td>NaN</td>\n",
       "    </tr>\n",
       "    <tr>\n",
       "      <th>2</th>\n",
       "      <td>2017</td>\n",
       "      <td>5489530.0</td>\n",
       "      <td>-0.0073</td>\n",
       "      <td>2612309.0</td>\n",
       "      <td>0.4760</td>\n",
       "      <td>192397.0</td>\n",
       "      <td>Governor</td>\n",
       "      <td>Ralph Shearer Northam</td>\n",
       "      <td>Democratic</td>\n",
       "      <td>1408818.0</td>\n",
       "      <td>0.539</td>\n",
       "    </tr>\n",
       "    <tr>\n",
       "      <th>3</th>\n",
       "      <td>2016</td>\n",
       "      <td>5529742.0</td>\n",
       "      <td>0.0641</td>\n",
       "      <td>3984631.0</td>\n",
       "      <td>0.7205</td>\n",
       "      <td>566948.0</td>\n",
       "      <td>President</td>\n",
       "      <td>Hillary R. Clinton</td>\n",
       "      <td>Democratic</td>\n",
       "      <td>1981473.0</td>\n",
       "      <td>0.497</td>\n",
       "    </tr>\n",
       "    <tr>\n",
       "      <th>4</th>\n",
       "      <td>2015</td>\n",
       "      <td>5196436.0</td>\n",
       "      <td>-0.0160</td>\n",
       "      <td>1509864.0</td>\n",
       "      <td>0.2910</td>\n",
       "      <td>62605.0</td>\n",
       "      <td>NaN</td>\n",
       "      <td>NaN</td>\n",
       "      <td>NaN</td>\n",
       "      <td>NaN</td>\n",
       "      <td>NaN</td>\n",
       "    </tr>\n",
       "  </tbody>\n",
       "</table>\n",
       "</div>"
      ],
      "text/plain": [
       "   Year  Total Registered  Percentage Change from Previous Year  Total Voting  \\\n",
       "0  2019         5628035.0                               -0.0100     2383646.0   \n",
       "1  2018         5666962.0                                0.0331     3374382.0   \n",
       "2  2017         5489530.0                               -0.0073     2612309.0   \n",
       "3  2016         5529742.0                                0.0641     3984631.0   \n",
       "4  2015         5196436.0                               -0.0160     1509864.0   \n",
       "\n",
       "   Turnout (% Voting of Total Registered)  \\\n",
       "0                                  0.4240   \n",
       "1                                  0.5950   \n",
       "2                                  0.4760   \n",
       "3                                  0.7205   \n",
       "4                                  0.2910   \n",
       "\n",
       "   Voting Absentee (Included in Total Voting)     Office  \\\n",
       "0                                    144360.0        NaN   \n",
       "1                                    337315.0        NaN   \n",
       "2                                    192397.0   Governor   \n",
       "3                                    566948.0  President   \n",
       "4                                     62605.0        NaN   \n",
       "\n",
       "             Winner (VA)       Party  Winner's Vote Count  \\\n",
       "0                    NaN         NaN                  NaN   \n",
       "1                    NaN         NaN                  NaN   \n",
       "2  Ralph Shearer Northam  Democratic            1408818.0   \n",
       "3     Hillary R. Clinton  Democratic            1981473.0   \n",
       "4                    NaN         NaN                  NaN   \n",
       "\n",
       "   Winner's Percent of Total Votes  \n",
       "0                              NaN  \n",
       "1                              NaN  \n",
       "2                            0.539  \n",
       "3                            0.497  \n",
       "4                              NaN  "
      ]
     },
     "execution_count": 5,
     "metadata": {},
     "output_type": "execute_result"
    }
   ],
   "source": [
    "# specify outer join with how='outer'\n",
    "df_merge_col = pd.merge(voter_registration, combined_elections, on='Year', how='outer')\n",
    "df_merge_col.head()\n",
    "\n",
    "# output csv\n",
    "# index=False hides index column, sep=\",\" separates at commas\n",
    "# df_merge_col.to_csv(\"complete_cleaned.csv\", index=False, sep=\",\")"
   ]
  },
  {
   "cell_type": "markdown",
   "metadata": {},
   "source": [
    "## Data Querying Process\n",
    "First, we calculated the summary statistics for our complete dataset with all elections, as this let us see the general distributions of all the variables."
   ]
  },
  {
   "cell_type": "code",
   "execution_count": 6,
   "metadata": {},
   "outputs": [
    {
     "data": {
      "text/html": [
       "<div>\n",
       "<style scoped>\n",
       "    .dataframe tbody tr th:only-of-type {\n",
       "        vertical-align: middle;\n",
       "    }\n",
       "\n",
       "    .dataframe tbody tr th {\n",
       "        vertical-align: top;\n",
       "    }\n",
       "\n",
       "    .dataframe thead th {\n",
       "        text-align: right;\n",
       "    }\n",
       "</style>\n",
       "<table border=\"1\" class=\"dataframe\">\n",
       "  <thead>\n",
       "    <tr style=\"text-align: right;\">\n",
       "      <th></th>\n",
       "      <th>Year</th>\n",
       "      <th>Total Registered</th>\n",
       "      <th>Percentage Change from Previous Year</th>\n",
       "      <th>Total Voting</th>\n",
       "      <th>Turnout (% Voting of Total Registered)</th>\n",
       "      <th>Voting Absentee (Included in Total Voting)</th>\n",
       "      <th>Winner's Vote Count</th>\n",
       "      <th>Winner's Percent of Total Votes</th>\n",
       "    </tr>\n",
       "  </thead>\n",
       "  <tbody>\n",
       "    <tr>\n",
       "      <th>count</th>\n",
       "      <td>44.000000</td>\n",
       "      <td>4.400000e+01</td>\n",
       "      <td>43.000000</td>\n",
       "      <td>4.400000e+01</td>\n",
       "      <td>44.000000</td>\n",
       "      <td>40.000000</td>\n",
       "      <td>2.200000e+01</td>\n",
       "      <td>22.000000</td>\n",
       "    </tr>\n",
       "    <tr>\n",
       "      <th>mean</th>\n",
       "      <td>1997.500000</td>\n",
       "      <td>3.722293e+06</td>\n",
       "      <td>0.023912</td>\n",
       "      <td>1.972992e+06</td>\n",
       "      <td>0.549952</td>\n",
       "      <td>115376.250000</td>\n",
       "      <td>1.208788e+06</td>\n",
       "      <td>0.531364</td>\n",
       "    </tr>\n",
       "    <tr>\n",
       "      <th>std</th>\n",
       "      <td>12.845233</td>\n",
       "      <td>1.218187e+06</td>\n",
       "      <td>0.046548</td>\n",
       "      <td>7.537008e+05</td>\n",
       "      <td>0.160630</td>\n",
       "      <td>130425.526595</td>\n",
       "      <td>3.952506e+05</td>\n",
       "      <td>0.042467</td>\n",
       "    </tr>\n",
       "    <tr>\n",
       "      <th>min</th>\n",
       "      <td>1976.000000</td>\n",
       "      <td>2.022619e+06</td>\n",
       "      <td>-0.049000</td>\n",
       "      <td>1.059158e+06</td>\n",
       "      <td>0.286100</td>\n",
       "      <td>10686.000000</td>\n",
       "      <td>6.993020e+05</td>\n",
       "      <td>0.450000</td>\n",
       "    </tr>\n",
       "    <tr>\n",
       "      <th>25%</th>\n",
       "      <td>1986.750000</td>\n",
       "      <td>2.671084e+06</td>\n",
       "      <td>-0.004150</td>\n",
       "      <td>1.374276e+06</td>\n",
       "      <td>0.429250</td>\n",
       "      <td>35022.750000</td>\n",
       "      <td>9.728408e+05</td>\n",
       "      <td>0.504250</td>\n",
       "    </tr>\n",
       "    <tr>\n",
       "      <th>50%</th>\n",
       "      <td>1997.500000</td>\n",
       "      <td>3.645190e+06</td>\n",
       "      <td>0.013000</td>\n",
       "      <td>1.819510e+06</td>\n",
       "      <td>0.524500</td>\n",
       "      <td>69293.500000</td>\n",
       "      <td>1.104070e+06</td>\n",
       "      <td>0.528000</td>\n",
       "    </tr>\n",
       "    <tr>\n",
       "      <th>75%</th>\n",
       "      <td>2008.250000</td>\n",
       "      <td>4.974848e+06</td>\n",
       "      <td>0.053000</td>\n",
       "      <td>2.285975e+06</td>\n",
       "      <td>0.677250</td>\n",
       "      <td>121824.500000</td>\n",
       "      <td>1.390883e+06</td>\n",
       "      <td>0.556500</td>\n",
       "    </tr>\n",
       "    <tr>\n",
       "      <th>max</th>\n",
       "      <td>2019.000000</td>\n",
       "      <td>5.666962e+06</td>\n",
       "      <td>0.148000</td>\n",
       "      <td>3.984631e+06</td>\n",
       "      <td>0.837000</td>\n",
       "      <td>566948.000000</td>\n",
       "      <td>1.981473e+06</td>\n",
       "      <td>0.623000</td>\n",
       "    </tr>\n",
       "  </tbody>\n",
       "</table>\n",
       "</div>"
      ],
      "text/plain": [
       "              Year  Total Registered  Percentage Change from Previous Year  \\\n",
       "count    44.000000      4.400000e+01                             43.000000   \n",
       "mean   1997.500000      3.722293e+06                              0.023912   \n",
       "std      12.845233      1.218187e+06                              0.046548   \n",
       "min    1976.000000      2.022619e+06                             -0.049000   \n",
       "25%    1986.750000      2.671084e+06                             -0.004150   \n",
       "50%    1997.500000      3.645190e+06                              0.013000   \n",
       "75%    2008.250000      4.974848e+06                              0.053000   \n",
       "max    2019.000000      5.666962e+06                              0.148000   \n",
       "\n",
       "       Total Voting  Turnout (% Voting of Total Registered)  \\\n",
       "count  4.400000e+01                               44.000000   \n",
       "mean   1.972992e+06                                0.549952   \n",
       "std    7.537008e+05                                0.160630   \n",
       "min    1.059158e+06                                0.286100   \n",
       "25%    1.374276e+06                                0.429250   \n",
       "50%    1.819510e+06                                0.524500   \n",
       "75%    2.285975e+06                                0.677250   \n",
       "max    3.984631e+06                                0.837000   \n",
       "\n",
       "       Voting Absentee (Included in Total Voting)  Winner's Vote Count  \\\n",
       "count                                   40.000000         2.200000e+01   \n",
       "mean                                115376.250000         1.208788e+06   \n",
       "std                                 130425.526595         3.952506e+05   \n",
       "min                                  10686.000000         6.993020e+05   \n",
       "25%                                  35022.750000         9.728408e+05   \n",
       "50%                                  69293.500000         1.104070e+06   \n",
       "75%                                 121824.500000         1.390883e+06   \n",
       "max                                 566948.000000         1.981473e+06   \n",
       "\n",
       "       Winner's Percent of Total Votes  \n",
       "count                        22.000000  \n",
       "mean                          0.531364  \n",
       "std                           0.042467  \n",
       "min                           0.450000  \n",
       "25%                           0.504250  \n",
       "50%                           0.528000  \n",
       "75%                           0.556500  \n",
       "max                           0.623000  "
      ]
     },
     "execution_count": 6,
     "metadata": {},
     "output_type": "execute_result"
    }
   ],
   "source": [
    "# convert our csv file back to a data frame\n",
    "voting_data = pd.read_csv(\"complete_cleaned.csv\")\n",
    "#find the summary statistics for our dataframe of all elections\n",
    "summ_stats = voting_data.describe()\n",
    "summ_stats"
   ]
  },
  {
   "cell_type": "markdown",
   "metadata": {},
   "source": [
    "Then, we calculated the summary statistics for our dataset grouped by whether a Democratic candidate won the election or a Republican candidate won the election, and this let us see more interesting relationships among the variables."
   ]
  },
  {
   "cell_type": "code",
   "execution_count": 7,
   "metadata": {},
   "outputs": [],
   "source": [
    "#make a dataframe of elections where a democrat won virginia\n",
    "democratic_data = voting_data.loc[voting_data['Party'] == 'Democratic']\n",
    "#find the summary statistics for this dataframe of democratic elections\n",
    "democratic_stats = democratic_data.describe()"
   ]
  },
  {
   "cell_type": "code",
   "execution_count": 8,
   "metadata": {},
   "outputs": [],
   "source": [
    "#make a dataframe of elections where a republican won virginia\n",
    "republican_data = voting_data.loc[voting_data['Party'] == 'Republican']\n",
    "#find the summary statistics for this dataframe of republican elections\n",
    "republican_stats = republican_data.describe()\n",
    "\n",
    "#make and describe a dataframe of elections grouped by party\n",
    "#grouped_stats = voting_data.groupby('Party').describe()\n",
    "#grouped_stats"
   ]
  },
  {
   "cell_type": "markdown",
   "metadata": {},
   "source": [
    "Next, we calculated the summary statistics for our dataset grouped by whether a presidential election took place or a gubernatorial election took place, and this also let us see more interesting relationships among the variables. "
   ]
  },
  {
   "cell_type": "code",
   "execution_count": 9,
   "metadata": {},
   "outputs": [],
   "source": [
    "#make a dataframe with only presidential elections\n",
    "president_data = voting_data.loc[voting_data['Office'] == 'President']\n",
    "#find the summary statistics for this dataframe of presidential elections\n",
    "president_stats = president_data.describe()"
   ]
  },
  {
   "cell_type": "code",
   "execution_count": 10,
   "metadata": {},
   "outputs": [],
   "source": [
    "#make a dataframe with only gubernatorial elections\n",
    "governor_data = voting_data.loc[voting_data['Office'] == 'Governor']\n",
    "#find the summary statistics for this dataframe of gubernatorial elections\n",
    "governor_stats = governor_data.describe()\n",
    "\n",
    "#make and describe a dataframe of elections grouped by type\n",
    "#grouped_stats = voting_data.groupby('Office').describe()\n",
    "#grouped_stats"
   ]
  },
  {
   "cell_type": "markdown",
   "metadata": {},
   "source": [
    "Then, we calculated the summary statistics for our dataset grouped by whether the election took place before or after the Virginia Motor Voter Act was passed, and this let us see more interesting relationships among the variables."
   ]
  },
  {
   "cell_type": "code",
   "execution_count": 11,
   "metadata": {},
   "outputs": [],
   "source": [
    "#make a dataframe of elections before the motor voter act\n",
    "pre_motor_voter = voting_data.loc[voting_data['Year'] < 1996]\n",
    "#find the summary statistics for this dataframe pre-motor voter\n",
    "pre_motor_voter_stats = pre_motor_voter.describe()"
   ]
  },
  {
   "cell_type": "code",
   "execution_count": 12,
   "metadata": {},
   "outputs": [],
   "source": [
    "#make a dataframe of elections after the motor voter act\n",
    "post_motor_voter = voting_data.loc[voting_data['Year'] >= 1996]\n",
    "#find the summary statistics for this dataframe post-motor voter\n",
    "post_motor_voter_stats = post_motor_voter.describe()"
   ]
  },
  {
   "cell_type": "markdown",
   "metadata": {},
   "source": [
    "We also calculated the percent change in the number of total voters from one year to the next year for only gubernatorial elections."
   ]
  },
  {
   "cell_type": "code",
   "execution_count": 13,
   "metadata": {},
   "outputs": [],
   "source": [
    "#find the percent changes in number of voters from one gubernatorial election to the next gubernatorial election\n",
    "governor_data[\"Change in Total Voting\"] = (governor_data[\"Total Voting\"] / governor_data[\"Total Voting\"].shift(-1)) -1\n",
    "\n",
    "#find the least percent change in number of voters from one gubernatorial election to the next gubernatorial election\n",
    "least_perc_change = abs(governor_data[\"Change in Total Voting\"]).min()\n",
    "least_perc_change_years = governor_data[governor_data[\"Change in Total Voting\"] == least_perc_change]"
   ]
  },
  {
   "cell_type": "code",
   "execution_count": 14,
   "metadata": {},
   "outputs": [],
   "source": [
    "#find the most percent decrease in number of voters from one gubernatorial election to the next gubernatorial election\n",
    "most_per_decrease = governor_data[\"Change in Total Voting\"].min()\n",
    "most_per_decrease_years = governor_data[governor_data[\"Change in Total Voting\"] == most_per_decrease]"
   ]
  },
  {
   "cell_type": "code",
   "execution_count": 15,
   "metadata": {},
   "outputs": [],
   "source": [
    "#find the most percent change in number of voters from one gubernatorial election to the next gubernatorial election\n",
    "most_perc_change = abs(governor_data[\"Change in Total Voting\"]).max()\n",
    "most_perc_change_years = governor_data[governor_data[\"Change in Total Voting\"] == most_perc_change]"
   ]
  },
  {
   "cell_type": "markdown",
   "metadata": {},
   "source": [
    "# Beyond Original Specifications:\n",
    "In order to exceed the baseline expectations for this project, our group chose to web scrape three different datasets and perform extra manipulating, cleaning, and merging to make our datasets functional. We expanded on this point in detail in our previous sections.\n",
    "\n",
    "Furthermore, we designed a function, va_elect, which would allow a user to input any year in which there was a presidential election (from 1976-2019) and check to see if Virginia voted for the eventual winner of the national general election. This was done by querying the data set against a dictionary of national election winners."
   ]
  },
  {
   "cell_type": "code",
   "execution_count": 20,
   "metadata": {
    "scrolled": true
   },
   "outputs": [
    {
     "name": "stdout",
     "output_type": "stream",
     "text": [
      "Please enter a presidential election year: 1988\n",
      "Did Virginia results align with the nation in this election? True\n"
     ]
    }
   ],
   "source": [
    "# Did VA elect the winning candidate in any given year?\n",
    "## establish dict of presidential election years and winners\n",
    "pres_winners = {'1976':'Jimmy Carter', '1980':'Ronald W. Reagan', '1984':'Ronald W. Reagan',\n",
    "                '1988':'George H. Bush', '1992': 'Bill Clinton', '1996': 'Bill Clinton',\n",
    "                '2000': 'Bush and Cheney', '2004':'Bush and Cheney', '2008': 'Barack Obama',\n",
    "                '2012': 'Barack Obama', '2016': 'Donald Trump'}\n",
    "## define function to:\n",
    "## take an election year\n",
    "## check data against pres_winners dict\n",
    "## return a boolean\n",
    "def va_elect(year):\n",
    "    return pres_winners[year] == president_data.loc[president_data.Year == int(year), 'Winner (VA)'].values[0]\n",
    "\n",
    "# user inputs a presidential election year to see in Virginia results aligned with the nation's results\n",
    "check_year = input('Please enter a presidential election year: ')\n",
    "try:\n",
    "    print('Did Virginia results align with the nation in this election? ' + str(va_elect(check_year)))\n",
    "except KeyError:\n",
    "    print('You did not enter a presidential election year.')"
   ]
  },
  {
   "cell_type": "markdown",
   "metadata": {},
   "source": [
    "Lastly, we also performed some statistical hypothesis testing, to be able to confidently affirm or reject our suspicions about the impact of presidential elections on turnout, as well as of the Motor Voter Act on registration. This required and allowed us to explore statistical computing packages in Python, an essential skill in our repertoire."
   ]
  },
  {
   "cell_type": "code",
   "execution_count": 21,
   "metadata": {},
   "outputs": [
    {
     "name": "stdout",
     "output_type": "stream",
     "text": [
      "The p-value of the two-tailed t-test is very low, indicating that there is a significant difference in the mean turnout in presidential election years versus non-presidential election years.\n",
      "The p-value of the two-tailed t-test is very low, indicating that there is a significant difference in the total number of registered voters before and after the implementation of the Motor Voter Act in 1996.\n"
     ]
    }
   ],
   "source": [
    "from scipy import stats\n",
    "# set up statistical test for significant difference in turnout between presidential and non-presidential election years\n",
    "nonpres_years = voting_data.loc[voting_data['Year']%4!=0]\n",
    "# 2 tailed t-test to see if this is a significant difference in means\n",
    "stats.ttest_ind(president_data['Turnout (% Voting of Total Registered)'], nonpres_years['Turnout (% Voting of Total Registered)'], equal_var=False)\n",
    "print('The p-value of the two-tailed t-test is very low, indicating that there is a significant difference in the mean turnout in presidential election years versus non-presidential election years.')\n",
    "\n",
    "# statistical test on significance of Motor Voter Act in 1996\n",
    "premotor = voting_data.loc[voting_data['Year'] < 1996]\n",
    "postmotor = voting_data.loc[voting_data['Year'] >= 1996]\n",
    "# 2 tailed t-test to see if this is a significant difference in means\n",
    "stats.ttest_ind(premotor['Total Registered'], postmotor['Total Registered'], equal_var=False)\n",
    "print('The p-value of the two-tailed t-test is very low, indicating that there is a significant difference in the total number of registered voters before and after the implementation of the Motor Voter Act in 1996.')"
   ]
  },
  {
   "cell_type": "markdown",
   "metadata": {},
   "source": [
    "# Results: \n",
    "\n",
    "First we examine the outputs of some of the earlier queries."
   ]
  },
  {
   "cell_type": "code",
   "execution_count": 18,
   "metadata": {},
   "outputs": [],
   "source": [
    "#did not display the table so our report would be under 20 pages\n",
    "#democratic_stats"
   ]
  },
  {
   "cell_type": "code",
   "execution_count": 19,
   "metadata": {},
   "outputs": [],
   "source": [
    "#did not display the table so our report would be under 20 pages\n",
    "#republican_stats"
   ]
  },
  {
   "cell_type": "markdown",
   "metadata": {},
   "source": [
    "If you display the tables, it could be seen that the number of registered voters was generally higher when a Democratic candidate won the election than when a Republican candidate won the election. This was also the case for the number of total voters who voted and for the number of absentee voters who voted, but the voter turnout was generally higher when a Republican candidate won the election than when a Democratic candidate won the election."
   ]
  },
  {
   "cell_type": "code",
   "execution_count": 22,
   "metadata": {},
   "outputs": [],
   "source": [
    "#did not display the table so our report would be under 20 pages\n",
    "#president_stats"
   ]
  },
  {
   "cell_type": "code",
   "execution_count": 23,
   "metadata": {},
   "outputs": [],
   "source": [
    "#did not display the table so our report would be under 20 pages\n",
    "#governor_stats"
   ]
  },
  {
   "cell_type": "markdown",
   "metadata": {},
   "source": [
    "If you display the tables, it could be seen that the number of total voters who voted was generally higher when a presidential election took place than when a gubernatorial election took place. This was also the case for the voter turnout and for the number of absentee voters who voted, but the number of registered voters was about the same when a presidential election took place as when a gubernatorial election took place."
   ]
  },
  {
   "cell_type": "code",
   "execution_count": 24,
   "metadata": {},
   "outputs": [
    {
     "data": {
      "text/html": [
       "<div>\n",
       "<style scoped>\n",
       "    .dataframe tbody tr th:only-of-type {\n",
       "        vertical-align: middle;\n",
       "    }\n",
       "\n",
       "    .dataframe tbody tr th {\n",
       "        vertical-align: top;\n",
       "    }\n",
       "\n",
       "    .dataframe thead th {\n",
       "        text-align: right;\n",
       "    }\n",
       "</style>\n",
       "<table border=\"1\" class=\"dataframe\">\n",
       "  <thead>\n",
       "    <tr style=\"text-align: right;\">\n",
       "      <th></th>\n",
       "      <th>Year</th>\n",
       "      <th>Total Registered</th>\n",
       "      <th>Percentage Change from Previous Year</th>\n",
       "      <th>Total Voting</th>\n",
       "      <th>Turnout (% Voting of Total Registered)</th>\n",
       "      <th>Voting Absentee (Included in Total Voting)</th>\n",
       "      <th>Winner's Vote Count</th>\n",
       "      <th>Winner's Percent of Total Votes</th>\n",
       "    </tr>\n",
       "  </thead>\n",
       "  <tbody>\n",
       "    <tr>\n",
       "      <th>count</th>\n",
       "      <td>20.00000</td>\n",
       "      <td>2.000000e+01</td>\n",
       "      <td>19.000000</td>\n",
       "      <td>2.000000e+01</td>\n",
       "      <td>20.000000</td>\n",
       "      <td>16.000000</td>\n",
       "      <td>1.000000e+01</td>\n",
       "      <td>10.000000</td>\n",
       "    </tr>\n",
       "    <tr>\n",
       "      <th>mean</th>\n",
       "      <td>1985.50000</td>\n",
       "      <td>2.553199e+06</td>\n",
       "      <td>0.020474</td>\n",
       "      <td>1.610476e+06</td>\n",
       "      <td>0.630295</td>\n",
       "      <td>57691.500000</td>\n",
       "      <td>9.766272e+05</td>\n",
       "      <td>0.542400</td>\n",
       "    </tr>\n",
       "    <tr>\n",
       "      <th>std</th>\n",
       "      <td>5.91608</td>\n",
       "      <td>3.588868e+05</td>\n",
       "      <td>0.056057</td>\n",
       "      <td>4.153958e+05</td>\n",
       "      <td>0.128214</td>\n",
       "      <td>36921.335496</td>\n",
       "      <td>2.310835e+05</td>\n",
       "      <td>0.051975</td>\n",
       "    </tr>\n",
       "    <tr>\n",
       "      <th>min</th>\n",
       "      <td>1976.00000</td>\n",
       "      <td>2.022619e+06</td>\n",
       "      <td>-0.049000</td>\n",
       "      <td>1.059158e+06</td>\n",
       "      <td>0.427000</td>\n",
       "      <td>22589.000000</td>\n",
       "      <td>6.993020e+05</td>\n",
       "      <td>0.450000</td>\n",
       "    </tr>\n",
       "    <tr>\n",
       "      <th>25%</th>\n",
       "      <td>1980.75000</td>\n",
       "      <td>2.229240e+06</td>\n",
       "      <td>-0.013500</td>\n",
       "      <td>1.263649e+06</td>\n",
       "      <td>0.520625</td>\n",
       "      <td>30430.500000</td>\n",
       "      <td>7.794062e+05</td>\n",
       "      <td>0.509000</td>\n",
       "    </tr>\n",
       "    <tr>\n",
       "      <th>50%</th>\n",
       "      <td>1985.50000</td>\n",
       "      <td>2.633555e+06</td>\n",
       "      <td>0.009000</td>\n",
       "      <td>1.512869e+06</td>\n",
       "      <td>0.622250</td>\n",
       "      <td>42145.000000</td>\n",
       "      <td>9.432725e+05</td>\n",
       "      <td>0.543500</td>\n",
       "    </tr>\n",
       "    <tr>\n",
       "      <th>75%</th>\n",
       "      <td>1990.25000</td>\n",
       "      <td>2.813096e+06</td>\n",
       "      <td>0.032000</td>\n",
       "      <td>1.836344e+06</td>\n",
       "      <td>0.713750</td>\n",
       "      <td>82429.750000</td>\n",
       "      <td>1.124218e+06</td>\n",
       "      <td>0.577000</td>\n",
       "    </tr>\n",
       "    <tr>\n",
       "      <th>max</th>\n",
       "      <td>1995.00000</td>\n",
       "      <td>3.055486e+06</td>\n",
       "      <td>0.148000</td>\n",
       "      <td>2.558665e+06</td>\n",
       "      <td>0.837000</td>\n",
       "      <td>141123.000000</td>\n",
       "      <td>1.337078e+06</td>\n",
       "      <td>0.623000</td>\n",
       "    </tr>\n",
       "  </tbody>\n",
       "</table>\n",
       "</div>"
      ],
      "text/plain": [
       "             Year  Total Registered  Percentage Change from Previous Year  \\\n",
       "count    20.00000      2.000000e+01                             19.000000   \n",
       "mean   1985.50000      2.553199e+06                              0.020474   \n",
       "std       5.91608      3.588868e+05                              0.056057   \n",
       "min    1976.00000      2.022619e+06                             -0.049000   \n",
       "25%    1980.75000      2.229240e+06                             -0.013500   \n",
       "50%    1985.50000      2.633555e+06                              0.009000   \n",
       "75%    1990.25000      2.813096e+06                              0.032000   \n",
       "max    1995.00000      3.055486e+06                              0.148000   \n",
       "\n",
       "       Total Voting  Turnout (% Voting of Total Registered)  \\\n",
       "count  2.000000e+01                               20.000000   \n",
       "mean   1.610476e+06                                0.630295   \n",
       "std    4.153958e+05                                0.128214   \n",
       "min    1.059158e+06                                0.427000   \n",
       "25%    1.263649e+06                                0.520625   \n",
       "50%    1.512869e+06                                0.622250   \n",
       "75%    1.836344e+06                                0.713750   \n",
       "max    2.558665e+06                                0.837000   \n",
       "\n",
       "       Voting Absentee (Included in Total Voting)  Winner's Vote Count  \\\n",
       "count                                   16.000000         1.000000e+01   \n",
       "mean                                 57691.500000         9.766272e+05   \n",
       "std                                  36921.335496         2.310835e+05   \n",
       "min                                  22589.000000         6.993020e+05   \n",
       "25%                                  30430.500000         7.794062e+05   \n",
       "50%                                  42145.000000         9.432725e+05   \n",
       "75%                                  82429.750000         1.124218e+06   \n",
       "max                                 141123.000000         1.337078e+06   \n",
       "\n",
       "       Winner's Percent of Total Votes  \n",
       "count                        10.000000  \n",
       "mean                          0.542400  \n",
       "std                           0.051975  \n",
       "min                           0.450000  \n",
       "25%                           0.509000  \n",
       "50%                           0.543500  \n",
       "75%                           0.577000  \n",
       "max                           0.623000  "
      ]
     },
     "execution_count": 24,
     "metadata": {},
     "output_type": "execute_result"
    }
   ],
   "source": [
    "#did not display the table so our report would be under 20 pages\n",
    "pre_motor_voter_stats"
   ]
  },
  {
   "cell_type": "code",
   "execution_count": 25,
   "metadata": {},
   "outputs": [
    {
     "data": {
      "text/html": [
       "<div>\n",
       "<style scoped>\n",
       "    .dataframe tbody tr th:only-of-type {\n",
       "        vertical-align: middle;\n",
       "    }\n",
       "\n",
       "    .dataframe tbody tr th {\n",
       "        vertical-align: top;\n",
       "    }\n",
       "\n",
       "    .dataframe thead th {\n",
       "        text-align: right;\n",
       "    }\n",
       "</style>\n",
       "<table border=\"1\" class=\"dataframe\">\n",
       "  <thead>\n",
       "    <tr style=\"text-align: right;\">\n",
       "      <th></th>\n",
       "      <th>Year</th>\n",
       "      <th>Total Registered</th>\n",
       "      <th>Percentage Change from Previous Year</th>\n",
       "      <th>Total Voting</th>\n",
       "      <th>Turnout (% Voting of Total Registered)</th>\n",
       "      <th>Voting Absentee (Included in Total Voting)</th>\n",
       "      <th>Winner's Vote Count</th>\n",
       "      <th>Winner's Percent of Total Votes</th>\n",
       "    </tr>\n",
       "  </thead>\n",
       "  <tbody>\n",
       "    <tr>\n",
       "      <th>count</th>\n",
       "      <td>24.000000</td>\n",
       "      <td>2.400000e+01</td>\n",
       "      <td>24.000000</td>\n",
       "      <td>2.400000e+01</td>\n",
       "      <td>24.000000</td>\n",
       "      <td>24.000000</td>\n",
       "      <td>1.200000e+01</td>\n",
       "      <td>12.000000</td>\n",
       "    </tr>\n",
       "    <tr>\n",
       "      <th>mean</th>\n",
       "      <td>2007.500000</td>\n",
       "      <td>4.696537e+06</td>\n",
       "      <td>0.026633</td>\n",
       "      <td>2.275088e+06</td>\n",
       "      <td>0.483000</td>\n",
       "      <td>153832.750000</td>\n",
       "      <td>1.402255e+06</td>\n",
       "      <td>0.522167</td>\n",
       "    </tr>\n",
       "    <tr>\n",
       "      <th>std</th>\n",
       "      <td>7.071068</td>\n",
       "      <td>6.993378e+05</td>\n",
       "      <td>0.038469</td>\n",
       "      <td>8.426050e+05</td>\n",
       "      <td>0.156103</td>\n",
       "      <td>155233.342278</td>\n",
       "      <td>4.058601e+05</td>\n",
       "      <td>0.032090</td>\n",
       "    </tr>\n",
       "    <tr>\n",
       "      <th>min</th>\n",
       "      <td>1996.000000</td>\n",
       "      <td>3.322740e+06</td>\n",
       "      <td>-0.035000</td>\n",
       "      <td>1.229139e+06</td>\n",
       "      <td>0.286100</td>\n",
       "      <td>10686.000000</td>\n",
       "      <td>9.690620e+05</td>\n",
       "      <td>0.471000</td>\n",
       "    </tr>\n",
       "    <tr>\n",
       "      <th>25%</th>\n",
       "      <td>2001.750000</td>\n",
       "      <td>4.190202e+06</td>\n",
       "      <td>-0.002575</td>\n",
       "      <td>1.498338e+06</td>\n",
       "      <td>0.353250</td>\n",
       "      <td>51150.750000</td>\n",
       "      <td>1.058827e+06</td>\n",
       "      <td>0.507500</td>\n",
       "    </tr>\n",
       "    <tr>\n",
       "      <th>50%</th>\n",
       "      <td>2007.500000</td>\n",
       "      <td>4.755216e+06</td>\n",
       "      <td>0.019900</td>\n",
       "      <td>2.204424e+06</td>\n",
       "      <td>0.444650</td>\n",
       "      <td>111747.000000</td>\n",
       "      <td>1.286234e+06</td>\n",
       "      <td>0.523500</td>\n",
       "    </tr>\n",
       "    <tr>\n",
       "      <th>75%</th>\n",
       "      <td>2013.250000</td>\n",
       "      <td>5.250467e+06</td>\n",
       "      <td>0.061775</td>\n",
       "      <td>2.644094e+06</td>\n",
       "      <td>0.614250</td>\n",
       "      <td>160909.750000</td>\n",
       "      <td>1.777602e+06</td>\n",
       "      <td>0.537500</td>\n",
       "    </tr>\n",
       "    <tr>\n",
       "      <th>max</th>\n",
       "      <td>2019.000000</td>\n",
       "      <td>5.666962e+06</td>\n",
       "      <td>0.107000</td>\n",
       "      <td>3.984631e+06</td>\n",
       "      <td>0.740000</td>\n",
       "      <td>566948.000000</td>\n",
       "      <td>1.981473e+06</td>\n",
       "      <td>0.586000</td>\n",
       "    </tr>\n",
       "  </tbody>\n",
       "</table>\n",
       "</div>"
      ],
      "text/plain": [
       "              Year  Total Registered  Percentage Change from Previous Year  \\\n",
       "count    24.000000      2.400000e+01                             24.000000   \n",
       "mean   2007.500000      4.696537e+06                              0.026633   \n",
       "std       7.071068      6.993378e+05                              0.038469   \n",
       "min    1996.000000      3.322740e+06                             -0.035000   \n",
       "25%    2001.750000      4.190202e+06                             -0.002575   \n",
       "50%    2007.500000      4.755216e+06                              0.019900   \n",
       "75%    2013.250000      5.250467e+06                              0.061775   \n",
       "max    2019.000000      5.666962e+06                              0.107000   \n",
       "\n",
       "       Total Voting  Turnout (% Voting of Total Registered)  \\\n",
       "count  2.400000e+01                               24.000000   \n",
       "mean   2.275088e+06                                0.483000   \n",
       "std    8.426050e+05                                0.156103   \n",
       "min    1.229139e+06                                0.286100   \n",
       "25%    1.498338e+06                                0.353250   \n",
       "50%    2.204424e+06                                0.444650   \n",
       "75%    2.644094e+06                                0.614250   \n",
       "max    3.984631e+06                                0.740000   \n",
       "\n",
       "       Voting Absentee (Included in Total Voting)  Winner's Vote Count  \\\n",
       "count                                   24.000000         1.200000e+01   \n",
       "mean                                153832.750000         1.402255e+06   \n",
       "std                                 155233.342278         4.058601e+05   \n",
       "min                                  10686.000000         9.690620e+05   \n",
       "25%                                  51150.750000         1.058827e+06   \n",
       "50%                                 111747.000000         1.286234e+06   \n",
       "75%                                 160909.750000         1.777602e+06   \n",
       "max                                 566948.000000         1.981473e+06   \n",
       "\n",
       "       Winner's Percent of Total Votes  \n",
       "count                        12.000000  \n",
       "mean                          0.522167  \n",
       "std                           0.032090  \n",
       "min                           0.471000  \n",
       "25%                           0.507500  \n",
       "50%                           0.523500  \n",
       "75%                           0.537500  \n",
       "max                           0.586000  "
      ]
     },
     "execution_count": 25,
     "metadata": {},
     "output_type": "execute_result"
    }
   ],
   "source": [
    "#did not display the table so our report would be under 20 pages\n",
    "post_motor_voter_stats"
   ]
  },
  {
   "cell_type": "markdown",
   "metadata": {},
   "source": [
    "If you display the tables, it could be seen that the number of registered voters was significantly higher after the Motor Voter Act than before the Motor Voter Act. This was also the case for the number of total voters who voted and for the number of absentee voters who voted, but the voter turnout was significantly higher before the Motor Voter Act than after the Motor Voter Act."
   ]
  },
  {
   "cell_type": "code",
   "execution_count": 28,
   "metadata": {},
   "outputs": [
    {
     "data": {
      "text/plain": [
       "2009"
      ]
     },
     "execution_count": 28,
     "metadata": {},
     "output_type": "execute_result"
    }
   ],
   "source": [
    "least_perc_change_years['Year'].values[0]"
   ]
  },
  {
   "cell_type": "code",
   "execution_count": 29,
   "metadata": {},
   "outputs": [
    {
     "data": {
      "text/plain": [
       "1985"
      ]
     },
     "execution_count": 29,
     "metadata": {},
     "output_type": "execute_result"
    }
   ],
   "source": [
    "most_per_decrease_years['Year'].values[0]"
   ]
  },
  {
   "cell_type": "code",
   "execution_count": 30,
   "metadata": {},
   "outputs": [
    {
     "data": {
      "text/plain": [
       "1989"
      ]
     },
     "execution_count": 30,
     "metadata": {},
     "output_type": "execute_result"
    }
   ],
   "source": [
    "most_perc_change_years['Year'].values[0]"
   ]
  },
  {
   "cell_type": "markdown",
   "metadata": {},
   "source": [
    "For only gubernatorial elections, we discovered that the smallest percent change occurred in 2009, the greatest percent decrease occurred in 1985, and the greatest percent change occurred in 1989.\n",
    "\n",
    "Looking at the output, the percent change in gubernatorial election turnout in 1989 may not seem immediately noteworthy. However, after doing some research on the winner of this election (Douglas Wilder) it became more clear why this election might have seen such a dramatic increase in the number of voters compared to the previous election. Douglas Wilder was not only the first black governor in the state of Virginia, but the first black person elected governor in the history of the United States of America."
   ]
  },
  {
   "cell_type": "markdown",
   "metadata": {},
   "source": [
    "## Graphical Analysis\n",
    "\n",
    "Our graphical analysis provided a great deal of interesting insight into trends in Virginia voting, the effects of laws passed, and the significance of historical events. One of the most general questions we wanted to answer was how has voting in the state of Virginia changed over the years in terms of its political values. Our graph, visualizing total number of votes cast plotted against year for presidential and gubernatorial elections and colored by party of winner, does a good job of demonstrating these changes."
   ]
  },
  {
   "cell_type": "code",
   "execution_count": 31,
   "metadata": {},
   "outputs": [
    {
     "data": {
      "image/png": "[encoded data removed]",
      "text/plain": [
       "<Figure size 957.5x288 with 1 Axes>"
      ]
     },
     "metadata": {
      "needs_background": "light"
     },
     "output_type": "display_data"
    }
   ],
   "source": [
    "import seaborn as sns\n",
    "import matplotlib.pyplot as plt\n",
    "\n",
    "#make a bar plot of total virgina voters in presidential and gubernatorial elections by which party won\n",
    "#make a dataframe with presidential and gubernatorial elections\n",
    "gov_and_pres = voting_data[pd.notnull(voting_data[\"Party\"])]\n",
    "gov_and_pres_plot = sns.catplot(x=\"Year\", y = \"Total Voting\", data = gov_and_pres, hue = \"Party\", kind = \"bar\", height = 4, aspect = 3) #make a plot\n",
    "gov_and_pres_plot.fig.suptitle(\"Total Votes Cast in Virginia by Year, Colored by Party of Winner (Presidential / Governor Election Years only)\") #add the title\n",
    "plt.show()"
   ]
  },
  {
   "cell_type": "markdown",
   "metadata": {},
   "source": [
    "Looking at the graph, from 1976 to 2004 spanning 15 presidential and gubernatorial elections, Democrats only won 4 of those races. Conversely, from 2005 to 2017, across 7 elections the Democrats won 6 races. This is a seismic shift, and one that has implications not just in the state of Virginia, but nationally. Virginia has 13 electoral votes which have gone from consistently being awarded to the Republican candidate to consistently going to the Democratic candidate. The reason for this shift appears to be closely related to expasion of suburbs of the DC metro area into Northern Virginia, and rising populations in other urban centers like Richmond. \n",
    "\n",
    "Our group was also curious about the effects of a law called the Motor Voter Act. This federal law's purpose was essentially to make it easier for Americans to register to vote, as well as to maintain their status as a registered voter. Thus, we visualized the number of registered voters in Virginia colored by whether or not the data were before or after the passing of the Motor Voter Act, in order to observe any changes."
   ]
  },
  {
   "cell_type": "code",
   "execution_count": 32,
   "metadata": {
    "scrolled": true
   },
   "outputs": [
    {
     "data": {
      "image/png": "[encoded data removed]",
      "text/plain": [
       "<Figure size 432x288 with 1 Axes>"
      ]
     },
     "metadata": {
      "needs_background": "light"
     },
     "output_type": "display_data"
    }
   ],
   "source": [
    "#make a dataframe of elections before the motor voter act\n",
    "pre_motor_voter = voting_data.loc[voting_data['Year'] < 1996]\n",
    "#make a dataframe of elections after the motor voter act\n",
    "post_motor_voter = voting_data.loc[voting_data['Year'] >= 1996]\n",
    "#make and save a line plot of the total voters registered pre and post motor voter\n",
    "plt.plot(\"Year\", \"Total Registered\", data=pre_motor_voter, marker='o') #make a plot of pre-motor voter elections\n",
    "year_total_registered_motor = plt.plot(\"Year\", \"Total Registered\", data=post_motor_voter, marker='o') #make a plot of post-motor voter elections\n",
    "plt.title('Registered Virginia Voters with Highlighted Motor Voter Years') #add the title\n",
    "plt.xlabel('Year') #add the x-axis label\n",
    "plt.ylabel('Number of Registered Virginia Voters') #add the y-axis label\n",
    "plt.legend(labels=['Pre-Motor Voter Act', 'Post-Motor Voter Act']) #add the legend\n",
    "plt.show()"
   ]
  },
  {
   "cell_type": "markdown",
   "metadata": {},
   "source": [
    "From this graph, we have further evidence to support the conclusion that the Motor Voter Act played a significant role in number of Virginians who were registered to vote each year. We can see that the general slope of the points prior to and after the passing of the law are significantly different, showing that in Virginia the Motor Voter Act succeded in its goal of increasing the number of people registered to vote. "
   ]
  },
  {
   "cell_type": "markdown",
   "metadata": {},
   "source": [
    "We were also curious about overall changes in voter turnout over time. A lot has been made about the fact that Americans tend to be less politically involved in recent years, and we wanted to see if that was reflected in the state of Virginia. To examine this, we plotted voter turnout against year, colored by the type of election."
   ]
  },
  {
   "cell_type": "code",
   "execution_count": 34,
   "metadata": {},
   "outputs": [
    {
     "data": {
      "image/png": "[encoded data removed]",
      "text/plain": [
       "<Figure size 432x288 with 1 Axes>"
      ]
     },
     "metadata": {
      "needs_background": "light"
     },
     "output_type": "display_data"
    }
   ],
   "source": [
    "#make a dataframe with all non-presidential and non-gubernatorial elections\n",
    "other_years = voting_data.loc[(voting_data['Year']%4==2) | (voting_data['Year']%4==3)]\n",
    "#make and save a line plot of the voter turnout with highlighted election years\n",
    "plt.plot(\"Year\", \"Turnout (% Voting of Total Registered)\", data=other_years, marker='o') #make the plot of other elections\n",
    "plt.plot(\"Year\", \"Turnout (% Voting of Total Registered)\", data=president_data, marker='o') #make the plot of pres elections\n",
    "year_voter_turnout_highlighted = plt.plot(\"Year\", \"Turnout (% Voting of Total Registered)\", data=governor_data, marker='o') #make the plot of gov elections\n",
    "plt.title('Virginia Voter Turnout with Highlighted Election Years') #add the title\n",
    "plt.xlabel('Year') #add the x-axis label\n",
    "plt.ylabel('Percent of Registered Voters that Voted') #add the y-axis label\n",
    "plt.legend(labels=['Other Elections', 'Presidential Elections', 'Gubernatorial Elections']) #add the legend\n",
    "plt.show()"
   ]
  },
  {
   "cell_type": "markdown",
   "metadata": {},
   "source": [
    "First, as expected, presidential elections tend to have higher voter turnout than all other election years. However, one aspect that is noteworthy is how voter turnout has dropped overall across all three categories of elections, yet presidential elections appear to be the least affected. For the other two election types, the first year for each has a voter turnout rate of above 60 percent. Voter turnout in gubernatorial elections has fairly steadily declined since then, with a low point of turnout in the low 40s in 2009. Years without a presidential election or a gubernatorial election have seen an even more striking decline, with several points in the low 30s and even a couple below 30 percent. It appears as though gubernatorial and other elections have seen a slight uptick in voter turnout in recent years, while presidential election turnout appears to have leveled off after dropping in the 1990s.  "
   ]
  },
  {
   "cell_type": "markdown",
   "metadata": {},
   "source": [
    "Given the current pandemic, and the potential ramifications it could have on the election, we wanted to examine rates of absentee voting in Virginia."
   ]
  },
  {
   "cell_type": "code",
   "execution_count": 35,
   "metadata": {},
   "outputs": [
    {
     "data": {
      "image/png": "[encoded data removed]",
      "text/plain": [
       "<Figure size 432x288 with 1 Axes>"
      ]
     },
     "metadata": {
      "needs_background": "light"
     },
     "output_type": "display_data"
    }
   ],
   "source": [
    "#make and save a line plot of the total absentee voters with highlighted election years\n",
    "plt.plot(\"Year\", \"Voting Absentee (Included in Total Voting)\", data=other_years, marker='o') #make the plot of other elections\n",
    "plt.plot(\"Year\", \"Voting Absentee (Included in Total Voting)\", data=president_data, marker='o') #make the plot of pres elections\n",
    "year_total_absentee_highlighted = plt.plot(\"Year\", \"Voting Absentee (Included in Total Voting)\", data=governor_data, marker='o') #make the plot of gov elections\n",
    "plt.title('Absentee Virginia Voters with Highlighted Election Years') #add the title\n",
    "plt.xlabel('Year') #add the x-axis label\n",
    "plt.ylabel('Number of Absentee Virginia Voters') #add the y-axis label\n",
    "plt.legend(labels=['Other Elections', 'Presidential Elections', 'Gubernatorial Elections']) #add the legend\n",
    "plt.show()"
   ]
  },
  {
   "cell_type": "markdown",
   "metadata": {},
   "source": [
    "Interestingly, in spite of the fact that overall rates in voter turnout are down, the number of absentee voters has been increasing significantly. Presidential years in particular have seen an exponential spike going from just over 100,000 votes in 2000 to over 500,000 votes in 2016.\n",
    "Discontinuities in the line graph represent years in which there was no absentee voter data available."
   ]
  },
  {
   "cell_type": "markdown",
   "metadata": {},
   "source": [
    "# Testing: \n",
    "\n",
    "In TestWebScraper.py, we ran nine unit tests specifically on our web-scraping process in voter_registration.py, presidential_results.py, and governor_results.py. The voter_registration.py web-scraper converted the data from strings to floats as they were read in, so we needed to test that our methods converted these types correctly. The only_numerics method takes in a string representation of a number, strips any non-numeric characters from that string, and returns a float. All of these numbers had commas (,) so we needed to remove these commas if we wanted to cast this string to a float. To make sure that this method correctly converts all string representations to float representations, we ran unit tests on all possible equivalence classes of string representations in this dataset. For example, test_does_only_numerics_work_with_numeric_strings tests if only_numerics('1,000,000') is equal to 1000000.0.\n",
    "\n",
    "The percentages method takes in a string representation of a percentage, strips any non-numeric characters (other than the negative sign since percentages can be negative), and returns the float representation of that percentage. All of these percentages had periods (.) and percent signs (%), and some of the percentages had empty spaces (' ') and asterisks (\\*), so we needed to remove these characters if we wanted to cast these strings to floats. To make sure that this method correctly converts all string representations to float representations, we ran unit tests on all possible equivalence classes of string representations in this dataset. For example, test_does_percentages_work_with_negative_nonnumeric_strings tests if percentages('-10.0\\*\\*%') is equal to -0.1.\n",
    "\n",
    "We also wrote three tests to check the requests to the websites that we scraped. Each file that scrapes a web page makes a request to a unique page on the Virginia Department of Elections website. The last three tests in our TestWebScraper.py file check that the request to each website returns a 200 status code. Status codes are a way that websites communicate whether or not they successfully completed a request. The 200 status code means that the request was received and understood, and is being processed. This test helps us check that we wrote our requests correctly, and that the pages we scraped still exist. Below are two examples of our string to float tests and one example of our scraper request tests."
   ]
  },
  {
   "cell_type": "code",
   "execution_count": 36,
   "metadata": {},
   "outputs": [],
   "source": [
    "def test_does_only_numerics_work_with_numeric_strings(self):\n",
    "        string_num = '1,000,000' #declare the string of numbers to convert to a float of that number\n",
    "        print(\"Is \" + string_num + \" converted to and returned as \" + str(only_numerics(string_num)) + \"?\")\n",
    "        self.assertEqual(only_numerics(string_num), 1000000.0)"
   ]
  },
  {
   "cell_type": "code",
   "execution_count": 37,
   "metadata": {},
   "outputs": [],
   "source": [
    "def test_does_percentages_work_with_negative_nonnumeric_strings(self):\n",
    "        string_num = '-10.0%**' #declare the string of numbers and characters to convert to a float of that percent\n",
    "        print(\"Is \" + string_num + \" converted to and returned as \" + str(percentages(string_num)) + \"?\")\n",
    "        self.assertEqual(percentages(string_num), -0.1)"
   ]
  },
  {
   "cell_type": "code",
   "execution_count": 38,
   "metadata": {},
   "outputs": [],
   "source": [
    "def test_voter_registration_scraper_request(self):\n",
    "    url = \"https://www.elections.virginia.gov/resultsreports/registrationturnout-statistics/\"\n",
    "    response = requests.get(url, headers={'User-Agent': 'Mozilla/5.0'})\n",
    "    print(\"Voter registration site status code:\",response.status_code)\n",
    "    self.assertEqual(response.status_code, 200)"
   ]
  },
  {
   "cell_type": "code",
   "execution_count": 39,
   "metadata": {},
   "outputs": [
    {
     "name": "stderr",
     "output_type": "stream",
     "text": [
      "test_does_only_numerics_work_with_nonnumeric_strings (TestWebScraper.TestWebScraper) ... ok\n",
      "test_does_only_numerics_work_with_numeric_strings (TestWebScraper.TestWebScraper) ... ok\n",
      "test_does_percentages_work_with_negative_nonnumeric_strings (TestWebScraper.TestWebScraper) ... ok\n",
      "test_does_percentages_work_with_negative_numeric_strings (TestWebScraper.TestWebScraper) ... ok\n",
      "test_does_percentages_work_with_positive_nonnumeric_strings (TestWebScraper.TestWebScraper) ... ok\n",
      "test_does_percentages_work_with_positive_numeric_strings (TestWebScraper.TestWebScraper) ... ok\n",
      "test_gubernatorial_election_scraper_request (TestWebScraper.TestWebScraper) ... "
     ]
    },
    {
     "name": "stdout",
     "output_type": "stream",
     "text": [
      "Is 1,000,000*** converted to and returned as 1000000.0?\n",
      "Is 1,000,000 converted to and returned as 1000000.0?\n",
      "Is -10.0%** converted to and returned as -0.1?\n",
      "Is -10.0% converted to and returned as -0.1?\n",
      "Is 10.0%** converted to and returned as 0.1?\n",
      "Is 10.0% converted to and returned as 0.1?\n"
     ]
    },
    {
     "name": "stderr",
     "output_type": "stream",
     "text": [
      "ok\n",
      "test_presidential_election_scraper_request (TestWebScraper.TestWebScraper) ... ok\n",
      "test_voter_registration_scraper_request (TestWebScraper.TestWebScraper) ... "
     ]
    },
    {
     "name": "stdout",
     "output_type": "stream",
     "text": [
      "Gubernatorial election site status code: 200\n",
      "Presidential election site status code: 200\n",
      "Voter registration site status code: 200\n"
     ]
    },
    {
     "name": "stderr",
     "output_type": "stream",
     "text": [
      "ok\n",
      "\n",
      "----------------------------------------------------------------------\n",
      "Ran 9 tests in 0.588s\n",
      "\n",
      "OK\n"
     ]
    },
    {
     "data": {
      "text/plain": [
       "<unittest.main.TestProgram at 0x1159e78d0>"
      ]
     },
     "execution_count": 39,
     "metadata": {},
     "output_type": "execute_result"
    }
   ],
   "source": [
    "#import and run our unit tests from TestWebScraper.py\n",
    "from TestWebScraper import *\n",
    "unittest.main(argv=[''], verbosity=2, exit=False)"
   ]
  },
  {
   "cell_type": "markdown",
   "metadata": {},
   "source": [
    "# Conclusions:\n",
    "\n",
    "As a result of our testing and querying, we’ve been able to determine that voter registration in Virginia has been rapidly rising over the past few decades, and also that conventional wisdom about voter participation in elections may not be inaccurate. To the first point, we see both graphically and statistically that the implementation of the National Voter Registration Act in 1996 had a significant impact on enabling more Virginians to register to vote. This indicates to us that policy designed to facilitate voter registration is useful and effective. With recent conversations surrounding the proposal for automatic voter registration, this conclusion is vital.\n",
    "To the latter, there is evidence of a significant difference in voter turnout between presidential election years and other years. Furthermore, we see graphically that turnout in presidential elections is decreasing in Virginia, while turnout in other types of elections has shown even more depreciation. In politically active circles, it's a fairly widely-heard assertion that \"when voters turn out, Democrats win\". In our data, we see that indeed, when more votes are cast, Democrats do tend to win in Virginia. However, when voter registration is lower, but turnout as a proportion of registration is high, Republicans tend to win. This indicates to us that the Republican base is more ideologically committed to coming out to vote for their candidates, or perhaps have fewer barriers to actively participating in the election process. A valuable extension to this project would be to take such ideological and material concerns into consideration, and finding ways to model them. We also see that absentee voting has been on the rise recently, while elections have continued to be deemed safe, secure, and legitimate, indicating that absentee voting is a safe part of our democratic process---a relevant and important conclusion, considering the ways in which the Coronavirus pandemic is going to affect our elections in November of this year. Further examination of voter and turnout trends in the broader Southern US would be of tremendous value, since trends have shown Virginia becoming more liberal as more total voters are involved in the political process, but these trends may or may not generalize throughout the South. Additionally, extension to analysis of the nation as a whole would be crucial."
   ]
  }
 ],
 "metadata": {
  "kernelspec": {
   "display_name": "Python 3",
   "language": "python",
   "name": "python3"
  },
  "language_info": {
   "codemirror_mode": {
    "name": "ipython",
    "version": 3
   },
   "file_extension": ".py",
   "mimetype": "text/x-python",
   "name": "python",
   "nbconvert_exporter": "python",
   "pygments_lexer": "ipython3",
   "version": "3.7.6"
  }
 },
 "nbformat": 4,
 "nbformat_minor": 4
}
